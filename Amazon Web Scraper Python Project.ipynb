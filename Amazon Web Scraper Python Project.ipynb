{
 "cells": [
  {
   "cell_type": "markdown",
   "id": "04802dad-2916-4d2a-830d-bdd96160b4ac",
   "metadata": {},
   "source": [
    "# Amazon Web Scraper Python Project"
   ]
  },
  {
   "cell_type": "code",
   "execution_count": 3,
   "id": "62626787-f89a-4153-bee3-269db9a5ce78",
   "metadata": {},
   "outputs": [],
   "source": [
    "#Import Libraries\n",
    "from bs4 import BeautifulSoup\n",
    "import requests\n",
    "import smtplib\n",
    "import time\n",
    "import datetime"
   ]
  },
  {
   "cell_type": "code",
   "execution_count": 4,
   "id": "1afefe28-ac32-4cfe-9d65-25dd2b3b8224",
   "metadata": {},
   "outputs": [
    {
     "name": "stdout",
     "output_type": "stream",
     "text": [
      "\n",
      "                  SHSCBSBRK Demon Slayer Tanjiro Anime Soccer Jersey T-Shirt for Men - Breath of Water Football Style Top, Lightweight & Quick-Dry (UAE/Saudi Arabia Sizing) -X20\n",
      "                 \n",
      "AED84.99\n"
     ]
    }
   ],
   "source": [
    "#Connect to Website\n",
    "URL = \"https://www.amazon.ae/SHSCBSBRK-Slayer-Tanjiro-Soccer-T-Shirt/dp/B0FBQPJYR6/ref=sr_1_6?crid=2DOWY0HIEMS9L&dib=eyJ2IjoiMSJ9.xcWq5hus2Ojjv8EyDHBfzNyocRMTe1xaa71EuEWBAu4C6Zc67q1WC0ZK2SFe00pJ9vj63-xyRUL6glKBjYyQaqOJXj08vuddyYA_zJl_t17RhEDRSgH_7RUSeDchoiIpj42Y1MP_K1IdsWrGRirIZJEvU9DUEbcjafv4J8iHsw_-B308ydqz7_WPhMZ5wIEnnoMpQUjC9noDop98RUC574VRkDBxpPCP-YEWuOKBPVDLe4GuEqLo-IeEuH8MGXrQZfce1caEeTYfkTW-Ie1aKOuD2p5ZPnZ-rShP0cio5c0.JaDlXcjQUIUilLekhDe1qj5H7voIAEZJDAkDxz-YUY4&dib_tag=se&keywords=Anime%2BTshirt&qid=1758703352&sprefix=ani+tshirt%2Caps%2C253&sr=8-6\"\n",
    "headers = {\"User-Agent\": \"Mozilla/5.0 (Windows NT 10.0; Win64; x64) AppleWebKit/537.36 (KHTML, like Gecko) Chrome/140.0.0.0 Safari/537.36\"}\n",
    "\n",
    "page = requests.get(URL, headers = headers)\n",
    "\n",
    "soup1 = BeautifulSoup(page.content, \"html.parser\")\n",
    "\n",
    "soup2 = BeautifulSoup(soup1.prettify(), \"html.parser\")\n",
    "#print(soup2)\n",
    "title = soup2.find(id = 'productTitle').get_text()\n",
    "print(title)\n",
    "\n",
    "price = soup2.find(\"span\", class_=\"a-offscreen\").get_text(strip=True)\n",
    "print(price)"
   ]
  },
  {
   "cell_type": "code",
   "execution_count": 5,
   "id": "527908e0-2440-497f-ad39-7d856ed74676",
   "metadata": {},
   "outputs": [
    {
     "name": "stdout",
     "output_type": "stream",
     "text": [
      "SHSCBSBRK Demon Slayer Tanjiro Anime Soccer Jersey T-Shirt for Men - Breath of Water Football Style Top, Lightweight & Quick-Dry (UAE/Saudi Arabia Sizing) -X20\n",
      "84.99\n"
     ]
    }
   ],
   "source": [
    "price = price.strip()[3:]\n",
    "title = title.strip()\n",
    "print(title)\n",
    "print(price)"
   ]
  },
  {
   "cell_type": "code",
   "execution_count": 6,
   "id": "803af14f-814a-4b41-88be-70c219b9a20a",
   "metadata": {},
   "outputs": [
    {
     "name": "stdout",
     "output_type": "stream",
     "text": [
      "2025-09-24\n"
     ]
    }
   ],
   "source": [
    "import datetime\n",
    "\n",
    "today = datetime.date.today()\n",
    "print(today)"
   ]
  },
  {
   "cell_type": "code",
   "execution_count": 7,
   "id": "f66b182f-4d29-453f-b7f9-1822ccda7191",
   "metadata": {},
   "outputs": [],
   "source": [
    "#Insert data into csv\n",
    "import csv\n",
    "\n",
    "header = ['Title','Price','Date']\n",
    "data = [title,price,today]\n",
    "\n",
    "with open('AmazonWebScraperDataset.csv','w', newline = '', encoding = 'UTF8') as f:\n",
    "    writer = csv.writer(f)\n",
    "    writer.writerow(header)\n",
    "    writer.writerow(data)"
   ]
  },
  {
   "cell_type": "code",
   "execution_count": 16,
   "id": "2921ff7e-ba08-435e-8275-d5ab91466bcc",
   "metadata": {},
   "outputs": [
    {
     "name": "stdout",
     "output_type": "stream",
     "text": [
      "                                               Title  Price        Date\n",
      "0  SHSCBSBRK Demon Slayer Tanjiro Anime Soccer Je...  84.99  2025-09-24\n",
      "1  SHSCBSBRK Demon Slayer Tanjiro Anime Soccer Je...  84.99  2025-09-24\n",
      "2  SHSCBSBRK Demon Slayer Tanjiro Anime Soccer Je...  84.99  2025-09-24\n"
     ]
    }
   ],
   "source": [
    "import pandas as pd\n",
    "\n",
    "df = pd.read_csv(r\"C:\\Users\\SHOUN\\DATA ANALYTICS\\Portfolio Project\\Amazon Web Scrapper Python Project\\AmazonWebScraperDataset.csv\")\n",
    "print(df)"
   ]
  },
  {
   "cell_type": "code",
   "execution_count": 12,
   "id": "e49fa12b-ec10-42dc-bbd9-63272df424f3",
   "metadata": {},
   "outputs": [
    {
     "name": "stdout",
     "output_type": "stream",
     "text": [
      "C:\\Users\\SHOUN\\DATA ANALYTICS\\Portfolio Project\\Amazon Web Scrapper Python Project\n"
     ]
    }
   ],
   "source": [
    "#import os\n",
    "#print(os.getcwd())\n"
   ]
  },
  {
   "cell_type": "code",
   "execution_count": 15,
   "id": "6f2499ea-40ac-4b75-9930-23b27bdc91d2",
   "metadata": {},
   "outputs": [],
   "source": [
    "#Now we are appending data to csv\n",
    "with open('AmazonWebScraperDataset.csv','a+', newline = '', encoding = 'UTF8') as f:\n",
    "    writer = csv.writer(f)\n",
    "    writer.writerow(data)"
   ]
  },
  {
   "cell_type": "code",
   "execution_count": 17,
   "id": "63ef99bf-a3b0-477d-9ec5-9506eed767c8",
   "metadata": {},
   "outputs": [],
   "source": [
    "#Automate the process\n",
    "def check_price():\n",
    "    URL = \"https://www.amazon.ae/SHSCBSBRK-Slayer-Tanjiro-Soccer-T-Shirt/dp/B0FBQPJYR6/ref=sr_1_6?crid=2DOWY0HIEMS9L&dib=eyJ2IjoiMSJ9.xcWq5hus2Ojjv8EyDHBfzNyocRMTe1xaa71EuEWBAu4C6Zc67q1WC0ZK2SFe00pJ9vj63-xyRUL6glKBjYyQaqOJXj08vuddyYA_zJl_t17RhEDRSgH_7RUSeDchoiIpj42Y1MP_K1IdsWrGRirIZJEvU9DUEbcjafv4J8iHsw_-B308ydqz7_WPhMZ5wIEnnoMpQUjC9noDop98RUC574VRkDBxpPCP-YEWuOKBPVDLe4GuEqLo-IeEuH8MGXrQZfce1caEeTYfkTW-Ie1aKOuD2p5ZPnZ-rShP0cio5c0.JaDlXcjQUIUilLekhDe1qj5H7voIAEZJDAkDxz-YUY4&dib_tag=se&keywords=Anime%2BTshirt&qid=1758703352&sprefix=ani+tshirt%2Caps%2C253&sr=8-6\"\n",
    " \n",
    "    headers = {\"User-Agent\": \"Mozilla/5.0 (Windows NT 10.0; Win64; x64) AppleWebKit/537.36 (KHTML, like Gecko) Chrome/140.0.0.0 Safari/537.36\"}\n",
    "\n",
    "    page = requests.get(URL, headers = headers)\n",
    "\n",
    "    soup1 = BeautifulSoup(page.content, \"html.parser\")\n",
    "\n",
    "    soup2 = BeautifulSoup(soup1.prettify(), \"html.parser\")\n",
    "\n",
    "    title = soup2.find(id = 'productTitle').get_text()\n",
    "\n",
    "    price = soup2.find(\"span\", class_=\"a-offscreen\").get_text(strip=True)\n",
    "\n",
    "    price = price.strip()[3:]\n",
    "    title = title.strip()\n",
    "\n",
    "    import datetime\n",
    "\n",
    "    today = datetime.date.today()\n",
    "\n",
    "    header = ['Title','Price','Date']\n",
    "    data = [title,price,today]\n",
    "\n",
    "    with open('AmazonWebScraperDataset.csv','a+', newline = '', encoding = 'UTF8') as f:\n",
    "        writer = csv.writer(f)\n",
    "        writer.writerow(data)"
   ]
  },
  {
   "cell_type": "code",
   "execution_count": 18,
   "id": "811c6b6e-3ff6-4309-b6f2-98986692815d",
   "metadata": {},
   "outputs": [
    {
     "ename": "KeyboardInterrupt",
     "evalue": "",
     "output_type": "error",
     "traceback": [
      "\u001b[1;31m---------------------------------------------------------------------------\u001b[0m",
      "\u001b[1;31mKeyboardInterrupt\u001b[0m                         Traceback (most recent call last)",
      "Cell \u001b[1;32mIn[18], line 3\u001b[0m\n\u001b[0;32m      1\u001b[0m \u001b[38;5;28;01mwhile\u001b[39;00m(\u001b[38;5;28;01mTrue\u001b[39;00m):\n\u001b[0;32m      2\u001b[0m     check_price()\n\u001b[1;32m----> 3\u001b[0m     time\u001b[38;5;241m.\u001b[39msleep(\u001b[38;5;241m10\u001b[39m)\n",
      "\u001b[1;31mKeyboardInterrupt\u001b[0m: "
     ]
    }
   ],
   "source": [
    "while(True):\n",
    "    check_price()\n",
    "    time.sleep(86400) #checks price every day"
   ]
  },
  {
   "cell_type": "code",
   "execution_count": 19,
   "id": "2dd46fa6-5a0d-43f1-93e7-fc088d90ba49",
   "metadata": {},
   "outputs": [
    {
     "name": "stdout",
     "output_type": "stream",
     "text": [
      "                                               Title  Price        Date\n",
      "0  SHSCBSBRK Demon Slayer Tanjiro Anime Soccer Je...  84.99  2025-09-24\n",
      "1  SHSCBSBRK Demon Slayer Tanjiro Anime Soccer Je...  84.99  2025-09-24\n",
      "2  SHSCBSBRK Demon Slayer Tanjiro Anime Soccer Je...  84.99  2025-09-24\n",
      "3  SHSCBSBRK Demon Slayer Tanjiro Anime Soccer Je...  84.99  2025-09-24\n",
      "4  SHSCBSBRK Demon Slayer Tanjiro Anime Soccer Je...  84.99  2025-09-24\n",
      "5  SHSCBSBRK Demon Slayer Tanjiro Anime Soccer Je...  84.99  2025-09-24\n"
     ]
    }
   ],
   "source": [
    "import pandas as pd\n",
    "\n",
    "df = pd.read_csv(r\"C:\\Users\\SHOUN\\DATA ANALYTICS\\Portfolio Project\\Amazon Web Scrapper Python Project\\AmazonWebScraperDataset.csv\")\n",
    "print(df)"
   ]
  },
  {
   "cell_type": "code",
   "execution_count": null,
   "id": "444e86d2-f278-4dcd-8937-56e4f08edab0",
   "metadata": {},
   "outputs": [],
   "source": []
  }
 ],
 "metadata": {
  "kernelspec": {
   "display_name": "Python [conda env:base] *",
   "language": "python",
   "name": "conda-base-py"
  },
  "language_info": {
   "codemirror_mode": {
    "name": "ipython",
    "version": 3
   },
   "file_extension": ".py",
   "mimetype": "text/x-python",
   "name": "python",
   "nbconvert_exporter": "python",
   "pygments_lexer": "ipython3",
   "version": "3.13.5"
  }
 },
 "nbformat": 4,
 "nbformat_minor": 5
}
